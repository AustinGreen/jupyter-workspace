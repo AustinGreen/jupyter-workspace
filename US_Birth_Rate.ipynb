{
 "cells": [
  {
   "cell_type": "code",
   "execution_count": 26,
   "metadata": {},
   "outputs": [
    {
     "data": {
      "text/plain": [
       "{1: 5789166,\n",
       " 2: 6446196,\n",
       " 3: 6322855,\n",
       " 4: 6276194,\n",
       " 5: 6233657,\n",
       " 6: 4562111,\n",
       " 7: 4079723}"
      ]
     },
     "execution_count": 26,
     "metadata": {},
     "output_type": "execute_result"
    }
   ],
   "source": [
    "def read_csv(file_name, header = False):\n",
    "    raw_data = open(file_name).read()\n",
    "    string_list = raw_data.split(\"\\n\")\n",
    "    if header:\n",
    "        string_list = string_list[1:len(string_list)]\n",
    "    final_list = []\n",
    "    for string_fields in string_list:\n",
    "        int_fields = []\n",
    "        string_fields = string_fields.split(\",\")\n",
    "        for string in string_fields:\n",
    "            int_fields.append(int(string))\n",
    "        final_list.append(int_fields)\n",
    "    return final_list\n",
    "\n",
    "def calc_counts(dataset, column):\n",
    "    births_per_column = {}\n",
    "    for data in dataset:\n",
    "        if data[column] in births_per_column:\n",
    "            births_per_column[data[column]] += data[4]\n",
    "        else:\n",
    "            births_per_column[data[column]] = data[4]\n",
    "    return births_per_column\n",
    "\n",
    "cdc_list = read_csv(\"US_births_1994-2003_CDC_NCHS.csv\", True)\n",
    "cdc_year_births= calc_counts(cdc_list, 0)\n",
    "cdc_month_births= calc_counts(cdc_list, 1)\n",
    "cdc_dom_births= calc_counts(cdc_list, 2)\n",
    "cdc_dow_births= calc_counts(cdc_list, 3)"
   ]
  },
  {
   "cell_type": "code",
   "execution_count": 11,
   "metadata": {
    "collapsed": true
   },
   "outputs": [
    {
     "ename": "NameError",
     "evalue": "name 'read_csv' is not defined",
     "output_type": "error",
     "traceback": [
      "\u001b[0;31m---------------------------------------------------------------------------\u001b[0m",
      "\u001b[0;31mNameError\u001b[0m                                 Traceback (most recent call last)",
      "\u001b[0;32m<ipython-input-11-2d233244003d>\u001b[0m in \u001b[0;36m<module>\u001b[0;34m()\u001b[0m\n\u001b[0;32m----> 1\u001b[0;31m \u001b[0mcdc_list\u001b[0m \u001b[0;34m=\u001b[0m \u001b[0mread_csv\u001b[0m\u001b[0;34m(\u001b[0m\u001b[0;34m\"US_births_1994-2003_CDC_NCHS.csv\"\u001b[0m\u001b[0;34m)\u001b[0m\u001b[0;34m\u001b[0m\u001b[0m\n\u001b[0m\u001b[1;32m      2\u001b[0m \u001b[0mcdc_list\u001b[0m\u001b[0;34m[\u001b[0m\u001b[0;34m:\u001b[0m\u001b[0;36m10\u001b[0m\u001b[0;34m]\u001b[0m\u001b[0;34m\u001b[0m\u001b[0m\n",
      "\u001b[0;31mNameError\u001b[0m: name 'read_csv' is not defined"
     ]
    }
   ],
   "source": []
  },
  {
   "cell_type": "code",
   "execution_count": null,
   "metadata": {},
   "outputs": [],
   "source": []
  }
 ],
 "metadata": {
  "kernelspec": {
   "display_name": "Python 3",
   "language": "python",
   "name": "python3"
  },
  "language_info": {
   "codemirror_mode": {
    "name": "ipython",
    "version": 3
   },
   "file_extension": ".py",
   "mimetype": "text/x-python",
   "name": "python",
   "nbconvert_exporter": "python",
   "pygments_lexer": "ipython3",
   "version": "3.6.0"
  }
 },
 "nbformat": 4,
 "nbformat_minor": 2
}
